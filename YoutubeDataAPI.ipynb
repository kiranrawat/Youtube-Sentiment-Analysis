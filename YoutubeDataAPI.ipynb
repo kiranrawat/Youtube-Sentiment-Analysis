{
 "cells": [
  {
   "cell_type": "markdown",
   "metadata": {},
   "source": [
    "# Youtube Data API\n",
    "\n",
    "Misc keys that can be used in most api calls with their description:\n",
    "- maxResults: Integer value (to adjust number of result items from any api)\n",
    "- pageToken: string (multipage results give with them a nextPageToken that can be used to retrive further results)"
   ]
  },
  {
   "cell_type": "code",
   "execution_count": 3,
   "metadata": {},
   "outputs": [],
   "source": [
    "import googleapiclient.discovery"
   ]
  },
  {
   "cell_type": "code",
   "execution_count": 7,
   "metadata": {},
   "outputs": [],
   "source": [
    "api_service_name = \"youtube\"\n",
    "api_version = \"v3\"\n",
    "DEVELOPER_KEY = \"\""
   ]
  },
  {
   "cell_type": "code",
   "execution_count": 8,
   "metadata": {},
   "outputs": [],
   "source": [
    "youtube = googleapiclient.discovery.build(api_service_name, api_version, developerKey=DEVELOPER_KEY)"
   ]
  },
  {
   "cell_type": "markdown",
   "metadata": {},
   "source": [
    "## Youtube Channels of a user"
   ]
  },
  {
   "cell_type": "code",
   "execution_count": 10,
   "metadata": {},
   "outputs": [],
   "source": [
    "url = 'https://www.youtube.com/user/breakdesignsco'\n",
    "username = url.split('/')[-1]\n",
    "y_request = youtube.channels().list(part=\"contentDetails\", forUsername=username)\n",
    "response = y_request.execute()"
   ]
  },
  {
   "cell_type": "code",
   "execution_count": 11,
   "metadata": {},
   "outputs": [
    {
     "data": {
      "text/plain": [
       "[{'kind': 'youtube#channel',\n",
       "  'etag': 'gx3Fv5cM5R9xbhhAkvGYBLaR03I',\n",
       "  'id': 'UCIp9sEZiv36cDG7cEnrVU7Q',\n",
       "  'contentDetails': {'relatedPlaylists': {'likes': '',\n",
       "    'favorites': '',\n",
       "    'uploads': 'UUIp9sEZiv36cDG7cEnrVU7Q',\n",
       "    'watchHistory': 'HL',\n",
       "    'watchLater': 'WL'}}}]"
      ]
     },
     "execution_count": 11,
     "metadata": {},
     "output_type": "execute_result"
    }
   ],
   "source": [
    "response['items']"
   ]
  },
  {
   "cell_type": "code",
   "execution_count": 12,
   "metadata": {},
   "outputs": [
    {
     "data": {
      "text/plain": [
       "'UUIp9sEZiv36cDG7cEnrVU7Q'"
      ]
     },
     "execution_count": 12,
     "metadata": {},
     "output_type": "execute_result"
    }
   ],
   "source": [
    "response['items'][0]['contentDetails']['relatedPlaylists']['uploads']"
   ]
  },
  {
   "cell_type": "markdown",
   "metadata": {},
   "source": [
    "## Fetching Comments"
   ]
  },
  {
   "cell_type": "markdown",
   "metadata": {},
   "source": [
    "### Comment Threads By Video Id\n",
    "\n",
    "This example retrieves all comment threads associated with a particular video. The request's videoId parameter identifies the video."
   ]
  },
  {
   "cell_type": "code",
   "execution_count": 13,
   "metadata": {},
   "outputs": [],
   "source": [
    "comments_request = youtube.commentThreads().list(\n",
    "    part=\"snippet,replies\",\n",
    "    videoId=\"_VB39Jo8mAQ\"\n",
    ")\n",
    "comments_response = comments_request.execute()"
   ]
  },
  {
   "cell_type": "code",
   "execution_count": 14,
   "metadata": {},
   "outputs": [
    {
     "data": {
      "text/plain": [
       "'QURTSl9pMDFDQjZlRHFlZDlGU0R3WEVsTE5YMEdxRW9KenJtZzAtUlF1ZFpmVHhSM2VPV3dINktsTFFWZGc0X3NvZXFCbkNVenVWUFdOUHhxTUU3dG1VTER0OUUydmtEbllPaWdtZkx6VHhKcS1Gdi15OTRRcjYyT2d2UldtYUFUcXM='"
      ]
     },
     "execution_count": 14,
     "metadata": {},
     "output_type": "execute_result"
    }
   ],
   "source": [
    "comments_response['nextPageToken']"
   ]
  },
  {
   "cell_type": "markdown",
   "metadata": {},
   "source": [
    "### Comment Threads By Channel Id\n",
    "\n",
    "This example retrieves all comment threads associated with a particular channel. The response could include comments about the channel or about the channel's videos. The request's allThreadsRelatedToChannelId parameter identifies the channel."
   ]
  },
  {
   "cell_type": "code",
   "execution_count": 15,
   "metadata": {},
   "outputs": [],
   "source": [
    "comments_all_threads_req = youtube.commentThreads().list(\n",
    "    part=\"snippet,replies\",\n",
    "    allThreadsRelatedToChannelId=\"UCIp9sEZiv36cDG7cEnrVU7Q\",\n",
    "    maxResults=1000\n",
    ")\n",
    "comments_all_threads_res = comments_all_threads_req.execute()"
   ]
  },
  {
   "cell_type": "code",
   "execution_count": 16,
   "metadata": {},
   "outputs": [
    {
     "name": "stdout",
     "output_type": "stream",
     "text": [
      "100\n",
      "{'totalResults': 100, 'resultsPerPage': 100}\n"
     ]
    }
   ],
   "source": [
    "comments_all_threads_res.keys()\n",
    "print(len(comments_all_threads_res['items']))\n",
    "print(comments_all_threads_res['pageInfo'])"
   ]
  },
  {
   "cell_type": "code",
   "execution_count": 26,
   "metadata": {},
   "outputs": [],
   "source": [
    "# comments_all_threads_res['items']"
   ]
  },
  {
   "cell_type": "code",
   "execution_count": 40,
   "metadata": {},
   "outputs": [
    {
     "data": {
      "text/html": [
       "<div>\n",
       "<style scoped>\n",
       "    .dataframe tbody tr th:only-of-type {\n",
       "        vertical-align: middle;\n",
       "    }\n",
       "\n",
       "    .dataframe tbody tr th {\n",
       "        vertical-align: top;\n",
       "    }\n",
       "\n",
       "    .dataframe thead th {\n",
       "        text-align: right;\n",
       "    }\n",
       "</style>\n",
       "<table border=\"1\" class=\"dataframe\">\n",
       "  <thead>\n",
       "    <tr style=\"text-align: right;\">\n",
       "      <th></th>\n",
       "      <th>VideoId</th>\n",
       "      <th>Comments</th>\n",
       "    </tr>\n",
       "  </thead>\n",
       "  <tbody>\n",
       "    <tr>\n",
       "      <th>0</th>\n",
       "      <td>U__YrDLoHRw</td>\n",
       "      <td>Can we get the pdf for the a6design one? I'd l...</td>\n",
       "    </tr>\n",
       "    <tr>\n",
       "      <th>1</th>\n",
       "      <td>WZKp-MExJxI</td>\n",
       "      <td>How do u calculate distance between text as yo...</td>\n",
       "    </tr>\n",
       "    <tr>\n",
       "      <th>2</th>\n",
       "      <td>U__YrDLoHRw</td>\n",
       "      <td>$70 - They aren't leaves, it's a lotus.</td>\n",
       "    </tr>\n",
       "    <tr>\n",
       "      <th>3</th>\n",
       "      <td>U__YrDLoHRw</td>\n",
       "      <td>$135 guy won this challenge</td>\n",
       "    </tr>\n",
       "    <tr>\n",
       "      <th>4</th>\n",
       "      <td>0GLAm2bCyCc</td>\n",
       "      <td>07:35\\r\\n06:22\\r\\n06:06</td>\n",
       "    </tr>\n",
       "    <tr>\n",
       "      <th>...</th>\n",
       "      <td>...</td>\n",
       "      <td>...</td>\n",
       "    </tr>\n",
       "    <tr>\n",
       "      <th>95</th>\n",
       "      <td>U__YrDLoHRw</td>\n",
       "      <td>The $135 dollar job was amazing - you didn't e...</td>\n",
       "    </tr>\n",
       "    <tr>\n",
       "      <th>96</th>\n",
       "      <td>U__YrDLoHRw</td>\n",
       "      <td>Fiverr has devalued the design industry beyond...</td>\n",
       "    </tr>\n",
       "    <tr>\n",
       "      <th>97</th>\n",
       "      <td>TKHrZeHfKos</td>\n",
       "      <td>I got procreate today and when I used it I was...</td>\n",
       "    </tr>\n",
       "    <tr>\n",
       "      <th>98</th>\n",
       "      <td>U__YrDLoHRw</td>\n",
       "      <td>can you hire me too...(^^,) i'm freelance desi...</td>\n",
       "    </tr>\n",
       "    <tr>\n",
       "      <th>99</th>\n",
       "      <td>U__YrDLoHRw</td>\n",
       "      <td>#1. $450\\n#2. $135\\n#3. $40\\n#4. $295\\n#5. $70</td>\n",
       "    </tr>\n",
       "  </tbody>\n",
       "</table>\n",
       "<p>100 rows × 2 columns</p>\n",
       "</div>"
      ],
      "text/plain": [
       "        VideoId                                           Comments\n",
       "0   U__YrDLoHRw  Can we get the pdf for the a6design one? I'd l...\n",
       "1   WZKp-MExJxI  How do u calculate distance between text as yo...\n",
       "2   U__YrDLoHRw            $70 - They aren't leaves, it's a lotus.\n",
       "3   U__YrDLoHRw                        $135 guy won this challenge\n",
       "4   0GLAm2bCyCc                            07:35\\r\\n06:22\\r\\n06:06\n",
       "..          ...                                                ...\n",
       "95  U__YrDLoHRw  The $135 dollar job was amazing - you didn't e...\n",
       "96  U__YrDLoHRw  Fiverr has devalued the design industry beyond...\n",
       "97  TKHrZeHfKos  I got procreate today and when I used it I was...\n",
       "98  U__YrDLoHRw  can you hire me too...(^^,) i'm freelance desi...\n",
       "99  U__YrDLoHRw     #1. $450\\n#2. $135\\n#3. $40\\n#4. $295\\n#5. $70\n",
       "\n",
       "[100 rows x 2 columns]"
      ]
     },
     "execution_count": 40,
     "metadata": {},
     "output_type": "execute_result"
    }
   ],
   "source": [
    "import pandas as pd\n",
    "\n",
    "data = []\n",
    "\n",
    "for item in comments_all_threads_res['items']:\n",
    "#         print('Video Id:', item['snippet']['videoId'])\n",
    "#         print(item['snippet']['topLevelComment']['snippet']['textOriginal'])\n",
    "    data.append((item['snippet']['videoId'],\n",
    "         item['snippet']['topLevelComment']['snippet']['textOriginal']))\n",
    "\n",
    "cols = ['VideoId', 'Comments']\n",
    "df = pd.DataFrame(data, columns = cols) "
   ]
  },
  {
   "cell_type": "code",
   "execution_count": 41,
   "metadata": {},
   "outputs": [],
   "source": [
    "df.to_csv('comments.csv',index=False, header=True)"
   ]
  },
  {
   "cell_type": "code",
   "execution_count": 44,
   "metadata": {},
   "outputs": [
    {
     "data": {
      "text/html": [
       "<div>\n",
       "<style scoped>\n",
       "    .dataframe tbody tr th:only-of-type {\n",
       "        vertical-align: middle;\n",
       "    }\n",
       "\n",
       "    .dataframe tbody tr th {\n",
       "        vertical-align: top;\n",
       "    }\n",
       "\n",
       "    .dataframe thead th {\n",
       "        text-align: right;\n",
       "    }\n",
       "</style>\n",
       "<table border=\"1\" class=\"dataframe\">\n",
       "  <thead>\n",
       "    <tr style=\"text-align: right;\">\n",
       "      <th></th>\n",
       "      <th>VideoId</th>\n",
       "      <th>Comments</th>\n",
       "    </tr>\n",
       "  </thead>\n",
       "  <tbody>\n",
       "    <tr>\n",
       "      <th>0</th>\n",
       "      <td>U__YrDLoHRw</td>\n",
       "      <td>Can we get the pdf for the a6design one? I'd l...</td>\n",
       "    </tr>\n",
       "    <tr>\n",
       "      <th>1</th>\n",
       "      <td>WZKp-MExJxI</td>\n",
       "      <td>How do u calculate distance between text as yo...</td>\n",
       "    </tr>\n",
       "    <tr>\n",
       "      <th>2</th>\n",
       "      <td>U__YrDLoHRw</td>\n",
       "      <td>$70 - They aren't leaves, it's a lotus.</td>\n",
       "    </tr>\n",
       "    <tr>\n",
       "      <th>3</th>\n",
       "      <td>U__YrDLoHRw</td>\n",
       "      <td>$135 guy won this challenge</td>\n",
       "    </tr>\n",
       "    <tr>\n",
       "      <th>4</th>\n",
       "      <td>0GLAm2bCyCc</td>\n",
       "      <td>07:35\\r\\n06:22\\r\\n06:06</td>\n",
       "    </tr>\n",
       "    <tr>\n",
       "      <th>...</th>\n",
       "      <td>...</td>\n",
       "      <td>...</td>\n",
       "    </tr>\n",
       "    <tr>\n",
       "      <th>95</th>\n",
       "      <td>U__YrDLoHRw</td>\n",
       "      <td>The $135 dollar job was amazing - you didn't e...</td>\n",
       "    </tr>\n",
       "    <tr>\n",
       "      <th>96</th>\n",
       "      <td>U__YrDLoHRw</td>\n",
       "      <td>Fiverr has devalued the design industry beyond...</td>\n",
       "    </tr>\n",
       "    <tr>\n",
       "      <th>97</th>\n",
       "      <td>TKHrZeHfKos</td>\n",
       "      <td>I got procreate today and when I used it I was...</td>\n",
       "    </tr>\n",
       "    <tr>\n",
       "      <th>98</th>\n",
       "      <td>U__YrDLoHRw</td>\n",
       "      <td>can you hire me too...(^^,) i'm freelance desi...</td>\n",
       "    </tr>\n",
       "    <tr>\n",
       "      <th>99</th>\n",
       "      <td>U__YrDLoHRw</td>\n",
       "      <td>#1. $450\\n#2. $135\\n#3. $40\\n#4. $295\\n#5. $70</td>\n",
       "    </tr>\n",
       "  </tbody>\n",
       "</table>\n",
       "<p>100 rows × 2 columns</p>\n",
       "</div>"
      ],
      "text/plain": [
       "        VideoId                                           Comments\n",
       "0   U__YrDLoHRw  Can we get the pdf for the a6design one? I'd l...\n",
       "1   WZKp-MExJxI  How do u calculate distance between text as yo...\n",
       "2   U__YrDLoHRw            $70 - They aren't leaves, it's a lotus.\n",
       "3   U__YrDLoHRw                        $135 guy won this challenge\n",
       "4   0GLAm2bCyCc                            07:35\\r\\n06:22\\r\\n06:06\n",
       "..          ...                                                ...\n",
       "95  U__YrDLoHRw  The $135 dollar job was amazing - you didn't e...\n",
       "96  U__YrDLoHRw  Fiverr has devalued the design industry beyond...\n",
       "97  TKHrZeHfKos  I got procreate today and when I used it I was...\n",
       "98  U__YrDLoHRw  can you hire me too...(^^,) i'm freelance desi...\n",
       "99  U__YrDLoHRw     #1. $450\\n#2. $135\\n#3. $40\\n#4. $295\\n#5. $70\n",
       "\n",
       "[100 rows x 2 columns]"
      ]
     },
     "execution_count": 44,
     "metadata": {},
     "output_type": "execute_result"
    }
   ],
   "source": [
    "data = pd.read_csv('comments.csv')\n",
    "data"
   ]
  },
  {
   "cell_type": "markdown",
   "metadata": {},
   "source": [
    "## Channel Videos"
   ]
  },
  {
   "cell_type": "code",
   "execution_count": 19,
   "metadata": {},
   "outputs": [],
   "source": [
    "uploads_id = 'UUIp9sEZiv36cDG7cEnrVU7Q'\n",
    "y_request = youtube.playlistItems().list(part='contentDetails', playlistId=uploads_id)\n",
    "response = y_request.execute()"
   ]
  },
  {
   "cell_type": "code",
   "execution_count": 20,
   "metadata": {},
   "outputs": [
    {
     "data": {
      "text/plain": [
       "{'totalResults': 565, 'resultsPerPage': 5}"
      ]
     },
     "execution_count": 20,
     "metadata": {},
     "output_type": "execute_result"
    }
   ],
   "source": [
    "response['pageInfo']"
   ]
  },
  {
   "cell_type": "code",
   "execution_count": 21,
   "metadata": {},
   "outputs": [
    {
     "data": {
      "text/plain": [
       "[{'kind': 'youtube#playlistItem',\n",
       "  'etag': 'ET1b6cg_cyCiVqRfE0cNYdeac54',\n",
       "  'id': 'VVVJcDlzRVppdjM2Y0RHN2NFbnJWVTdRLjBHTEFtMmJDeUNj',\n",
       "  'contentDetails': {'videoId': '0GLAm2bCyCc',\n",
       "   'videoPublishedAt': '2020-06-11T15:53:43Z'}},\n",
       " {'kind': 'youtube#playlistItem',\n",
       "  'etag': 'mUoWin6XdJUHBwg9M9rtG32jJTA',\n",
       "  'id': 'VVVJcDlzRVppdjM2Y0RHN2NFbnJWVTdRLk54NmFJYkpvYXZV',\n",
       "  'contentDetails': {'videoId': 'Nx6aIbJoavU',\n",
       "   'videoPublishedAt': '2020-06-02T18:52:24Z'}},\n",
       " {'kind': 'youtube#playlistItem',\n",
       "  'etag': 'abOljsM7WSK3RvMOeuDu9ofKrpg',\n",
       "  'id': 'VVVJcDlzRVppdjM2Y0RHN2NFbnJWVTdRLjluQ1RxNWV1VHpJ',\n",
       "  'contentDetails': {'videoId': '9nCTq5euTzI',\n",
       "   'videoPublishedAt': '2020-06-01T14:00:06Z'}},\n",
       " {'kind': 'youtube#playlistItem',\n",
       "  'etag': 'Kgn0z9sJAUlUAmxEGBUH3N14r-s',\n",
       "  'id': 'VVVJcDlzRVppdjM2Y0RHN2NFbnJWVTdRLnVmdkZSWmhHU3Nr',\n",
       "  'contentDetails': {'videoId': 'ufvFRZhGSsk',\n",
       "   'videoPublishedAt': '2020-05-27T15:17:46Z'}},\n",
       " {'kind': 'youtube#playlistItem',\n",
       "  'etag': 'K3CIEEsRXK1YO92N8VDMKtGlea4',\n",
       "  'id': 'VVVJcDlzRVppdjM2Y0RHN2NFbnJWVTdRLmtQbFYtVWpnUkhV',\n",
       "  'contentDetails': {'videoId': 'kPlV-UjgRHU',\n",
       "   'videoPublishedAt': '2020-05-19T15:28:12Z'}}]"
      ]
     },
     "execution_count": 21,
     "metadata": {},
     "output_type": "execute_result"
    }
   ],
   "source": [
    "response['items']"
   ]
  },
  {
   "cell_type": "code",
   "execution_count": 22,
   "metadata": {},
   "outputs": [
    {
     "name": "stdout",
     "output_type": "stream",
     "text": [
      "{'kind': 'youtube#playlistItemListResponse', 'etag': 'CM3k7TqR7emJqdcgAFOTX07zoPE', 'nextPageToken': 'CAUQAA', 'items': [{'kind': 'youtube#playlistItem', 'etag': 'ET1b6cg_cyCiVqRfE0cNYdeac54', 'id': 'VVVJcDlzRVppdjM2Y0RHN2NFbnJWVTdRLjBHTEFtMmJDeUNj', 'contentDetails': {'videoId': '0GLAm2bCyCc', 'videoPublishedAt': '2020-06-11T15:53:43Z'}}, {'kind': 'youtube#playlistItem', 'etag': 'mUoWin6XdJUHBwg9M9rtG32jJTA', 'id': 'VVVJcDlzRVppdjM2Y0RHN2NFbnJWVTdRLk54NmFJYkpvYXZV', 'contentDetails': {'videoId': 'Nx6aIbJoavU', 'videoPublishedAt': '2020-06-02T18:52:24Z'}}, {'kind': 'youtube#playlistItem', 'etag': 'abOljsM7WSK3RvMOeuDu9ofKrpg', 'id': 'VVVJcDlzRVppdjM2Y0RHN2NFbnJWVTdRLjluQ1RxNWV1VHpJ', 'contentDetails': {'videoId': '9nCTq5euTzI', 'videoPublishedAt': '2020-06-01T14:00:06Z'}}, {'kind': 'youtube#playlistItem', 'etag': 'Kgn0z9sJAUlUAmxEGBUH3N14r-s', 'id': 'VVVJcDlzRVppdjM2Y0RHN2NFbnJWVTdRLnVmdkZSWmhHU3Nr', 'contentDetails': {'videoId': 'ufvFRZhGSsk', 'videoPublishedAt': '2020-05-27T15:17:46Z'}}, {'kind': 'youtube#playlistItem', 'etag': 'K3CIEEsRXK1YO92N8VDMKtGlea4', 'id': 'VVVJcDlzRVppdjM2Y0RHN2NFbnJWVTdRLmtQbFYtVWpnUkhV', 'contentDetails': {'videoId': 'kPlV-UjgRHU', 'videoPublishedAt': '2020-05-19T15:28:12Z'}}], 'pageInfo': {'totalResults': 565, 'resultsPerPage': 5}}\n"
     ]
    }
   ],
   "source": [
    "print(response)"
   ]
  },
  {
   "cell_type": "code",
   "execution_count": null,
   "metadata": {},
   "outputs": [],
   "source": []
  }
 ],
 "metadata": {
  "kernelspec": {
   "display_name": "Python 3",
   "language": "python",
   "name": "python3"
  },
  "language_info": {
   "codemirror_mode": {
    "name": "ipython",
    "version": 3
   },
   "file_extension": ".py",
   "mimetype": "text/x-python",
   "name": "python",
   "nbconvert_exporter": "python",
   "pygments_lexer": "ipython3",
   "version": "3.8.3"
  },
  "toc-autonumbering": true,
  "toc-showcode": false,
  "toc-showmarkdowntxt": false,
  "toc-showtags": false
 },
 "nbformat": 4,
 "nbformat_minor": 4
}
